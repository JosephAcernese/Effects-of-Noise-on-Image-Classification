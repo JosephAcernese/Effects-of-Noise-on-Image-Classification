{
 "cells": [
  {
   "cell_type": "code",
   "execution_count": 1,
   "id": "eded6629",
   "metadata": {},
   "outputs": [],
   "source": [
    "import os\n",
    "import skimage as sk\n",
    "from skimage.io import imread\n",
    "from skimage.transform import resize\n",
    "from skimage.io import imshow"
   ]
  },
  {
   "cell_type": "code",
   "execution_count": 2,
   "id": "6924f998",
   "metadata": {},
   "outputs": [],
   "source": [
    "dir_init = r'./caltech-101/clean'\n",
    "classes = []\n",
    "\n",
    "img_data = []       # Non-flattened images\n",
    "img_flattened = []  # Flattened images\n",
    "img_target = []     # All images and their assigned class\n",
    "\n",
    "# Iterate through all folders in caltech101 file\n",
    "for category in os.listdir(dir_init):\n",
    "    classes.append(category)\n",
    "\n",
    "    if(category == '.DS_Store'):\n",
    "        continue\n",
    "        \n",
    "    # Iterate through all images in category/class\n",
    "    dir_img = os.path.join(dir_init, category)\n",
    "    for img in os.listdir(dir_img):\n",
    "        \n",
    "        if(img == '.DS_Store'):\n",
    "            continue\n",
    "        \n",
    "        img = imread(os.path.join(dir_img, img))   # Read the image as a vector \n",
    "        img_resized = resize(img, (150, 150, 3))\n",
    "        img_data.append(img_resized)\n",
    "        img_flattened.append(img_resized.flatten())\n",
    "        img_target.append(classes.index(category))"
   ]
  },
  {
   "cell_type": "code",
   "execution_count": 3,
   "id": "835e8f9f",
   "metadata": {},
   "outputs": [],
   "source": [
    "\n",
    "# Guassian images will be generated with different levels\n",
    "# Standard deviation will be changed to create multiple sets of noise\n",
    "# Each index in gaussian_images is the image set with index+1 standard deviation\n",
    "\n",
    "gaussian_images = []\n",
    "\n",
    "for std in range(1,2):\n",
    "    temp = []\n",
    "    for img in img_data:\n",
    "        temp.append(sk.filters.gaussian(img,sigma= std))\n",
    "        \n",
    "    gaussian_images.append(temp)"
   ]
  },
  {
   "cell_type": "code",
   "execution_count": null,
   "id": "535a92f1",
   "metadata": {},
   "outputs": [],
   "source": [
    "poisson_images = []\n",
    "\n",
    "for std in range(2,11,2):\n",
    "    temp = []\n",
    "    for img in img_data:\n",
    "        temp.append(sk.util.random_noise(img,rng= std,mode='poisson'))\n",
    "        \n",
    "    poisson_images.append(temp)"
   ]
  },
  {
   "cell_type": "code",
   "execution_count": null,
   "id": "0133f79b",
   "metadata": {},
   "outputs": [],
   "source": [
    "sp_images = []\n",
    "\n",
    "for variance in [0.05,0.1,0.15,0.2,0.25]:\n",
    "\n",
    "    temp = []\n",
    "    for img in img_data:\n",
    "        temp.append(sk.util.random_noise(img, amount = variance, mode='s&p'))\n",
    "        \n",
    "    sp_images.append(temp)"
   ]
  },
  {
   "cell_type": "code",
   "execution_count": 8,
   "id": "a40c7d99",
   "metadata": {},
   "outputs": [
    {
     "ename": "TypeError",
     "evalue": "Cannot handle this data type: (1, 1, 3), <f8",
     "output_type": "error",
     "traceback": [
      "\u001b[0;31m---------------------------------------------------------------------------\u001b[0m",
      "\u001b[0;31mKeyError\u001b[0m                                  Traceback (most recent call last)",
      "File \u001b[0;32m~/anaconda3/lib/python3.11/site-packages/PIL/Image.py:3070\u001b[0m, in \u001b[0;36mfromarray\u001b[0;34m(obj, mode)\u001b[0m\n\u001b[1;32m   3069\u001b[0m \u001b[38;5;28;01mtry\u001b[39;00m:\n\u001b[0;32m-> 3070\u001b[0m     mode, rawmode \u001b[38;5;241m=\u001b[39m _fromarray_typemap[typekey]\n\u001b[1;32m   3071\u001b[0m \u001b[38;5;28;01mexcept\u001b[39;00m \u001b[38;5;167;01mKeyError\u001b[39;00m \u001b[38;5;28;01mas\u001b[39;00m e:\n",
      "\u001b[0;31mKeyError\u001b[0m: ((1, 1, 3), '<f8')",
      "\nThe above exception was the direct cause of the following exception:\n",
      "\u001b[0;31mTypeError\u001b[0m                                 Traceback (most recent call last)",
      "Cell \u001b[0;32mIn[8], line 14\u001b[0m\n\u001b[1;32m     12\u001b[0m \u001b[38;5;28;01mfor\u001b[39;00m k \u001b[38;5;129;01min\u001b[39;00m \u001b[38;5;28mrange\u001b[39m(\u001b[38;5;28mlen\u001b[39m(gaussian_images[i])):\n\u001b[1;32m     13\u001b[0m     \u001b[38;5;28;01mif\u001b[39;00m img_target[k] \u001b[38;5;241m==\u001b[39m j:\n\u001b[0;32m---> 14\u001b[0m         sk\u001b[38;5;241m.\u001b[39mio\u001b[38;5;241m.\u001b[39mimsave(temp_dir\u001b[38;5;241m+\u001b[39m\u001b[38;5;124m\"\u001b[39m\u001b[38;5;124mimage_\u001b[39m\u001b[38;5;124m\"\u001b[39m \u001b[38;5;241m+\u001b[39m \u001b[38;5;28mstr\u001b[39m(k) \u001b[38;5;241m+\u001b[39m \u001b[38;5;124m'\u001b[39m\u001b[38;5;124m.jpg\u001b[39m\u001b[38;5;124m'\u001b[39m,gaussian_images[i][k])\n",
      "File \u001b[0;32m~/anaconda3/lib/python3.11/site-packages/skimage/io/_io.py:143\u001b[0m, in \u001b[0;36mimsave\u001b[0;34m(fname, arr, plugin, check_contrast, **plugin_args)\u001b[0m\n\u001b[1;32m    141\u001b[0m \u001b[38;5;28;01mif\u001b[39;00m check_contrast \u001b[38;5;129;01mand\u001b[39;00m is_low_contrast(arr):\n\u001b[1;32m    142\u001b[0m     warn(\u001b[38;5;124mf\u001b[39m\u001b[38;5;124m'\u001b[39m\u001b[38;5;132;01m{\u001b[39;00mfname\u001b[38;5;132;01m}\u001b[39;00m\u001b[38;5;124m is a low contrast image\u001b[39m\u001b[38;5;124m'\u001b[39m)\n\u001b[0;32m--> 143\u001b[0m \u001b[38;5;28;01mreturn\u001b[39;00m call_plugin(\u001b[38;5;124m'\u001b[39m\u001b[38;5;124mimsave\u001b[39m\u001b[38;5;124m'\u001b[39m, fname, arr, plugin\u001b[38;5;241m=\u001b[39mplugin, \u001b[38;5;241m*\u001b[39m\u001b[38;5;241m*\u001b[39mplugin_args)\n",
      "File \u001b[0;32m~/anaconda3/lib/python3.11/site-packages/skimage/io/manage_plugins.py:205\u001b[0m, in \u001b[0;36mcall_plugin\u001b[0;34m(kind, *args, **kwargs)\u001b[0m\n\u001b[1;32m    202\u001b[0m     \u001b[38;5;28;01mexcept\u001b[39;00m \u001b[38;5;167;01mIndexError\u001b[39;00m:\n\u001b[1;32m    203\u001b[0m         \u001b[38;5;28;01mraise\u001b[39;00m \u001b[38;5;167;01mRuntimeError\u001b[39;00m(\u001b[38;5;124mf\u001b[39m\u001b[38;5;124m'\u001b[39m\u001b[38;5;124mCould not find the plugin \u001b[39m\u001b[38;5;124m\"\u001b[39m\u001b[38;5;132;01m{\u001b[39;00mplugin\u001b[38;5;132;01m}\u001b[39;00m\u001b[38;5;124m\"\u001b[39m\u001b[38;5;124m for \u001b[39m\u001b[38;5;132;01m{\u001b[39;00mkind\u001b[38;5;132;01m}\u001b[39;00m\u001b[38;5;124m.\u001b[39m\u001b[38;5;124m'\u001b[39m)\n\u001b[0;32m--> 205\u001b[0m \u001b[38;5;28;01mreturn\u001b[39;00m func(\u001b[38;5;241m*\u001b[39margs, \u001b[38;5;241m*\u001b[39m\u001b[38;5;241m*\u001b[39mkwargs)\n",
      "File \u001b[0;32m~/anaconda3/lib/python3.11/site-packages/imageio/v3.py:147\u001b[0m, in \u001b[0;36mimwrite\u001b[0;34m(uri, image, plugin, extension, format_hint, **kwargs)\u001b[0m\n\u001b[1;32m    105\u001b[0m \u001b[38;5;250m\u001b[39m\u001b[38;5;124;03m\"\"\"Write an ndimage to the given URI.\u001b[39;00m\n\u001b[1;32m    106\u001b[0m \n\u001b[1;32m    107\u001b[0m \u001b[38;5;124;03mThe exact behavior depends on the file type and plugin used. To learn about\u001b[39;00m\n\u001b[0;32m   (...)\u001b[0m\n\u001b[1;32m    136\u001b[0m \n\u001b[1;32m    137\u001b[0m \u001b[38;5;124;03m\"\"\"\u001b[39;00m\n\u001b[1;32m    139\u001b[0m \u001b[38;5;28;01mwith\u001b[39;00m imopen(\n\u001b[1;32m    140\u001b[0m     uri,\n\u001b[1;32m    141\u001b[0m     \u001b[38;5;124m\"\u001b[39m\u001b[38;5;124mw\u001b[39m\u001b[38;5;124m\"\u001b[39m,\n\u001b[0;32m   (...)\u001b[0m\n\u001b[1;32m    145\u001b[0m     extension\u001b[38;5;241m=\u001b[39mextension,\n\u001b[1;32m    146\u001b[0m ) \u001b[38;5;28;01mas\u001b[39;00m img_file:\n\u001b[0;32m--> 147\u001b[0m     encoded \u001b[38;5;241m=\u001b[39m img_file\u001b[38;5;241m.\u001b[39mwrite(image, \u001b[38;5;241m*\u001b[39m\u001b[38;5;241m*\u001b[39mkwargs)\n\u001b[1;32m    149\u001b[0m \u001b[38;5;28;01mreturn\u001b[39;00m encoded\n",
      "File \u001b[0;32m~/anaconda3/lib/python3.11/site-packages/imageio/plugins/pillow.py:423\u001b[0m, in \u001b[0;36mPillowPlugin.write\u001b[0;34m(self, ndimage, mode, format, is_batch, **kwargs)\u001b[0m\n\u001b[1;32m    420\u001b[0m     ndimage \u001b[38;5;241m=\u001b[39m ndimage[\u001b[38;5;28;01mNone\u001b[39;00m, \u001b[38;5;241m.\u001b[39m\u001b[38;5;241m.\u001b[39m\u001b[38;5;241m.\u001b[39m]\n\u001b[1;32m    422\u001b[0m \u001b[38;5;28;01mfor\u001b[39;00m frame \u001b[38;5;129;01min\u001b[39;00m ndimage:\n\u001b[0;32m--> 423\u001b[0m     pil_frame \u001b[38;5;241m=\u001b[39m Image\u001b[38;5;241m.\u001b[39mfromarray(frame, mode\u001b[38;5;241m=\u001b[39mmode)\n\u001b[1;32m    424\u001b[0m     \u001b[38;5;28;01mif\u001b[39;00m \u001b[38;5;124m\"\u001b[39m\u001b[38;5;124mbits\u001b[39m\u001b[38;5;124m\"\u001b[39m \u001b[38;5;129;01min\u001b[39;00m kwargs:\n\u001b[1;32m    425\u001b[0m         pil_frame \u001b[38;5;241m=\u001b[39m pil_frame\u001b[38;5;241m.\u001b[39mquantize(colors\u001b[38;5;241m=\u001b[39m\u001b[38;5;241m2\u001b[39m \u001b[38;5;241m*\u001b[39m\u001b[38;5;241m*\u001b[39m kwargs[\u001b[38;5;124m\"\u001b[39m\u001b[38;5;124mbits\u001b[39m\u001b[38;5;124m\"\u001b[39m])\n",
      "File \u001b[0;32m~/anaconda3/lib/python3.11/site-packages/PIL/Image.py:3073\u001b[0m, in \u001b[0;36mfromarray\u001b[0;34m(obj, mode)\u001b[0m\n\u001b[1;32m   3071\u001b[0m     \u001b[38;5;28;01mexcept\u001b[39;00m \u001b[38;5;167;01mKeyError\u001b[39;00m \u001b[38;5;28;01mas\u001b[39;00m e:\n\u001b[1;32m   3072\u001b[0m         msg \u001b[38;5;241m=\u001b[39m \u001b[38;5;124m\"\u001b[39m\u001b[38;5;124mCannot handle this data type: \u001b[39m\u001b[38;5;132;01m%s\u001b[39;00m\u001b[38;5;124m, \u001b[39m\u001b[38;5;132;01m%s\u001b[39;00m\u001b[38;5;124m\"\u001b[39m \u001b[38;5;241m%\u001b[39m typekey\n\u001b[0;32m-> 3073\u001b[0m         \u001b[38;5;28;01mraise\u001b[39;00m \u001b[38;5;167;01mTypeError\u001b[39;00m(msg) \u001b[38;5;28;01mfrom\u001b[39;00m \u001b[38;5;21;01me\u001b[39;00m\n\u001b[1;32m   3074\u001b[0m \u001b[38;5;28;01melse\u001b[39;00m:\n\u001b[1;32m   3075\u001b[0m     rawmode \u001b[38;5;241m=\u001b[39m mode\n",
      "\u001b[0;31mTypeError\u001b[0m: Cannot handle this data type: (1, 1, 3), <f8"
     ]
    }
   ],
   "source": [
    "for i in range(len(gaussian_images)):\n",
    "    \n",
    "    dir = os.path.join(\"./caltech-101/gaussian/\", str(i+1))\n",
    "    \n",
    "    os.mkdir(dir)\n",
    "    \n",
    "    for j in range(len(classes)):\n",
    "        \n",
    "        temp_dir = os.path.join(dir,classes[j] + '/')\n",
    "        os.mkdir(temp_dir)\n",
    "        \n",
    "        for k in range(len(gaussian_images[i])):\n",
    "            if img_target[k] == j:\n",
    "                sk.io.imsave(temp_dir + \"image_\" + str(k) + '.jpg', pgaussian_images[i][k])\n",
    "                \n",
    "    "
   ]
  },
  {
   "cell_type": "code",
   "execution_count": 14,
   "id": "27a1d702",
   "metadata": {},
   "outputs": [
    {
     "name": "stdout",
     "output_type": "stream",
     "text": [
      "[[[0.56492458 0.69480053 0.80620952]\n",
      "  [0.56496816 0.69484411 0.8062531 ]\n",
      "  [0.56539614 0.69527209 0.80668108]\n",
      "  ...\n",
      "  [0.57470024 0.70489835 0.82331282]\n",
      "  [0.57192519 0.70212742 0.82054577]\n",
      "  [0.57018217 0.70038448 0.81880291]]\n",
      "\n",
      " [[0.56682635 0.69668571 0.80808901]\n",
      "  [0.56686863 0.69672799 0.8081313 ]\n",
      "  [0.56728037 0.69713973 0.80854303]\n",
      "  ...\n",
      "  [0.5759344  0.70580523 0.82355576]\n",
      "  [0.57361211 0.70348695 0.82124112]\n",
      "  [0.57215402 0.70202894 0.81978318]]\n",
      "\n",
      " [[0.56999663 0.69965368 0.81098767]\n",
      "  [0.57002504 0.69968209 0.81101608]\n",
      "  [0.57030709 0.69996414 0.81129813]\n",
      "  ...\n",
      "  [0.57847357 0.70742393 0.82382005]\n",
      "  [0.57667664 0.70563068 0.82202994]\n",
      "  [0.5755491  0.70450321 0.82090254]]\n",
      "\n",
      " ...\n",
      "\n",
      " [[0.65124073 0.53999698 0.42537897]\n",
      "  [0.64707373 0.53582998 0.42121197]\n",
      "  [0.64411347 0.53286972 0.41825171]\n",
      "  ...\n",
      "  [0.6357826  0.52245722 0.39990916]\n",
      "  [0.6317435  0.5184151  0.395862  ]\n",
      "  [0.62984363 0.51651517 0.39396197]]\n",
      "\n",
      " [[0.68182155 0.56533322 0.4305536 ]\n",
      "  [0.67858483 0.56209649 0.42731687]\n",
      "  [0.67754839 0.56106005 0.42628043]\n",
      "  ...\n",
      "  [0.67852334 0.56756594 0.44431223]\n",
      "  [0.67472716 0.56376899 0.4405153 ]\n",
      "  [0.67179045 0.56083226 0.43757858]]\n",
      "\n",
      " [[0.68636505 0.56312071 0.40895024]\n",
      "  [0.6854128  0.56216846 0.40799799]\n",
      "  [0.68687448 0.56363014 0.40945967]\n",
      "  ...\n",
      "  [0.69904031 0.58865754 0.46349332]\n",
      "  [0.69419597 0.58381467 0.45865523]\n",
      "  [0.6902433  0.57986203 0.45470268]]]\n"
     ]
    }
   ],
   "source": [
    "print(gaussian_images[0][0])"
   ]
  },
  {
   "cell_type": "code",
   "execution_count": null,
   "id": "565e4033",
   "metadata": {},
   "outputs": [],
   "source": []
  },
  {
   "cell_type": "code",
   "execution_count": null,
   "id": "58ae9120",
   "metadata": {},
   "outputs": [],
   "source": []
  }
 ],
 "metadata": {
  "kernelspec": {
   "display_name": "Python 3 (ipykernel)",
   "language": "python",
   "name": "python3"
  },
  "language_info": {
   "codemirror_mode": {
    "name": "ipython",
    "version": 3
   },
   "file_extension": ".py",
   "mimetype": "text/x-python",
   "name": "python",
   "nbconvert_exporter": "python",
   "pygments_lexer": "ipython3",
   "version": "3.11.6"
  }
 },
 "nbformat": 4,
 "nbformat_minor": 5
}
