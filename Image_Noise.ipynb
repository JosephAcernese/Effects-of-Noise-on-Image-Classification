{
 "cells": [
  {
   "cell_type": "code",
   "execution_count": 3,
   "id": "eded6629",
   "metadata": {},
   "outputs": [],
   "source": [
    "import os\n",
    "import skimage as sk\n",
    "from skimage.filters import gaussian\n",
    "from skimage.util import random_noise\n",
    "from skimage.io import imread\n",
    "from skimage.transform import resize\n",
    "from skimage.io import imshow\n",
    "import cv2"
   ]
  },
  {
   "cell_type": "code",
   "execution_count": 6,
   "id": "668053da",
   "metadata": {},
   "outputs": [],
   "source": [
    "classes = []        # List of all classes\n",
    "img_data = []       # Non-flattened images\n",
    "img_flattened = []  # Flattened images (needed for noise generation)\n",
    "img_target = []     # Class belonging to each image\n",
    "\n",
    "num_img = 100\n",
    "dir_init = './caltech-101/'\n",
    "\n",
    "n = 0\n",
    "# Iterate through all folders in caltech101 file\n",
    "for category in os.listdir(dir_init):\n",
    "    \n",
    "    if(category == '.DS_Store'):\n",
    "        continue\n",
    "        \n",
    "    dir_img = os.path.join(dir_init, category)\n",
    "    \n",
    "    total_imgs = os.listdir(dir_img)\n",
    "    if len(total_imgs) >= 100:       # If there are at least 100 images in the class\n",
    "        \n",
    "        classes.append(category)\n",
    "        n_i = 0\n",
    "        \n",
    "        for img in os.listdir(dir_img):\n",
    "            if(img == '.DS_Store'):\n",
    "                continue\n",
    "                \n",
    "            img = imread(os.path.join(dir_img, img))   # Read the image as a vector \n",
    "            img_resized = resize(img, (150, 150, 3))\n",
    "            img_data.append(img_resized)\n",
    "            img_flattened.append(img_resized.flatten())\n",
    "            img_target.append(classes.index(category))\n",
    "            \n",
    "            n_i += 1\n",
    "            if (n_i == num_img):\n",
    "                break"
   ]
  },
  {
   "cell_type": "code",
   "execution_count": 23,
   "id": "64cebad9",
   "metadata": {},
   "outputs": [],
   "source": [
    "# Gaussian image generation\n",
    "\n",
    "gaussian_images = {}\n",
    "\n",
    "for std in range(1,11):\n",
    "    temp = []\n",
    "    for img in img_data:\n",
    "        temp.append(random_noise(img,var= (std/100),mode='gaussian').flatten())\n",
    "        \n",
    "    gaussian_images[std/100] = temp"
   ]
  },
  {
   "cell_type": "code",
   "execution_count": 24,
   "id": "4a987ed9",
   "metadata": {},
   "outputs": [],
   "source": [
    "# Lens blur image generation\n",
    "\n",
    "blur_images = {}\n",
    "\n",
    "for k in range(2,11):\n",
    "    temp = []\n",
    "    for img in img_data:\n",
    "        temp.append(cv2.blur(img,(k,k)).flatten())\n",
    "        \n",
    "    blur_images[k] = temp"
   ]
  },
  {
   "cell_type": "code",
   "execution_count": 25,
   "id": "fb4a3b58",
   "metadata": {},
   "outputs": [],
   "source": [
    "sp_images = {}\n",
    "\n",
    "for variance in [0.05,0.1,0.15,0.2,0.25,0.3,0.35,0.4,0.45,0.5]:\n",
    "\n",
    "    temp = []\n",
    "\n",
    "    for img in img_data:\n",
    "        temp.append(random_noise(img, amount = variance, mode='s&p').flatten())\n",
    "        \n",
    "    sp_images[variance] = temp"
   ]
  }
 ],
 "metadata": {
  "kernelspec": {
   "display_name": "Python 3 (ipykernel)",
   "language": "python",
   "name": "python3"
  },
  "language_info": {
   "codemirror_mode": {
    "name": "ipython",
    "version": 3
   },
   "file_extension": ".py",
   "mimetype": "text/x-python",
   "name": "python",
   "nbconvert_exporter": "python",
   "pygments_lexer": "ipython3",
   "version": "3.11.6"
  }
 },
 "nbformat": 4,
 "nbformat_minor": 5
}
