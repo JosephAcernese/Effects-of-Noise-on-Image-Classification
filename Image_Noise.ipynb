{
 "cells": [
  {
   "cell_type": "code",
   "execution_count": 17,
   "id": "eded6629",
   "metadata": {},
   "outputs": [],
   "source": [
    "import os\n",
    "import skimage as sk\n",
    "from skimage.io import imread\n",
    "from skimage.transform import resize\n",
    "from skimage.io import imshow"
   ]
  },
  {
   "cell_type": "code",
   "execution_count": 26,
   "id": "1421964c",
   "metadata": {},
   "outputs": [],
   "source": [
    "dir_init = r'./caltech-101'\n",
    "classes = []\n",
    "\n",
    "img_data = []       # Non-flattened images\n",
    "img_flattened = []  # Flattened images\n",
    "img_target = []     # All images and their assigned class\n",
    "\n",
    "# Iterate through all folders in caltech101 file\n",
    "for category in os.listdir(dir_init):\n",
    "    classes.append(category)\n",
    "\n",
    "    if(category == '.DS_Store'):\n",
    "        continue\n",
    "        \n",
    "    # Iterate through all images in category/class\n",
    "    dir_img = os.path.join(dir_init, category)\n",
    "    for img in os.listdir(dir_img):\n",
    "        \n",
    "        img = imread(os.path.join(dir_img, img))   # Read the image as a vector \n",
    "        img_resized = resize(img, (150, 150, 3))\n",
    "        img_data.append(img_resized)\n",
    "        img_flattened.append(img_resized.flatten())\n",
    "        img_target.append(classes.index(category))"
   ]
  },
  {
   "cell_type": "code",
   "execution_count": 27,
   "id": "70cda4db",
   "metadata": {},
   "outputs": [],
   "source": [
    "# https://scikit-image.org/docs/stable/api/skimage.filters.html#skimage.filters.gaussian\n",
    "# https://scikit-image.org/docs/stable/api/skimage.util.html#skimage.util.random_noise\n",
    "# "
   ]
  },
  {
   "cell_type": "code",
   "execution_count": 40,
   "id": "32c7d669",
   "metadata": {},
   "outputs": [],
   "source": [
    "\n",
    "# Guassian images will be generated with different levels\n",
    "# Standard deviation will be changed to create multiple sets of noise\n",
    "# Each index in gaussian_images is the image set with index+1 standard deviation\n",
    "\n",
    "gaussian_images = []\n",
    "\n",
    "for std in range(1,5):\n",
    "    temp = []\n",
    "    for img in img_data:\n",
    "        temp.append(sk.filters.gaussian(img,sigma= std))\n",
    "        \n",
    "    gaussian_images.append(temp)"
   ]
  },
  {
   "cell_type": "code",
   "execution_count": null,
   "id": "4a327abd",
   "metadata": {},
   "outputs": [],
   "source": []
  }
 ],
 "metadata": {
  "kernelspec": {
   "display_name": "Python 3 (ipykernel)",
   "language": "python",
   "name": "python3"
  },
  "language_info": {
   "codemirror_mode": {
    "name": "ipython",
    "version": 3
   },
   "file_extension": ".py",
   "mimetype": "text/x-python",
   "name": "python",
   "nbconvert_exporter": "python",
   "pygments_lexer": "ipython3",
   "version": "3.11.6"
  }
 },
 "nbformat": 4,
 "nbformat_minor": 5
}
